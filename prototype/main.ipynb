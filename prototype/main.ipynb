{
 "cells": [
  {
   "cell_type": "code",
   "execution_count": 1,
   "id": "58df04f2",
   "metadata": {},
   "outputs": [],
   "source": [
    "from typing import Literal\n",
    "\n",
    "from selenium import webdriver\n",
    "from selenium.webdriver.common.by import By\n",
    "from selenium.webdriver.support.wait import WebDriverWait\n",
    "from selenium.common.exceptions import NoSuchElementException\n",
    "\n",
    "import time"
   ]
  },
  {
   "cell_type": "code",
   "execution_count": 2,
   "id": "49d776e4",
   "metadata": {},
   "outputs": [],
   "source": [
    "# Configura o driver do Selenium (ex: para Chrome)\n",
    "driver = webdriver.Chrome()\n",
    "driver.get(\"https://codenames.game/room/mine-baby-robot\")"
   ]
  },
  {
   "cell_type": "code",
   "execution_count": 3,
   "id": "f9ad7b9b",
   "metadata": {},
   "outputs": [],
   "source": [
    "def find_element_by_text_xpath(driver, element, text_to_find):\n",
    "    \"\"\"\n",
    "    Encontra um botão usando XPath baseado no seu texto visível.\n",
    "    \"\"\"\n",
    "    try:\n",
    "        lower_text = text_to_find.lower()\n",
    "        xpath = f\"//{element}[translate(normalize-space(.), 'ABCDEFGHIJKLMNOPQRSTUVWXYZ', 'abcdefghijklmnopqrstuvwxyz') = '{lower_text}']\"\n",
    "        \n",
    "        element = driver.find_element(By.XPATH, xpath)\n",
    "        return element\n",
    "    except NoSuchElementException:\n",
    "        return None"
   ]
  },
  {
   "cell_type": "code",
   "execution_count": 4,
   "id": "4d925b99",
   "metadata": {},
   "outputs": [],
   "source": [
    "def login(nickname):\n",
    "    # Get and set nickname\n",
    "    element_nickname_input = driver.find_element(By.ID, \"nickname-input\")\n",
    "    element_nickname_input.send_keys(nickname)\n",
    "\n",
    "    # Click join button\n",
    "    element_join_button = find_element_by_text_xpath(driver, \"button\", \"Entrar na Sala\")\n",
    "    element_join_button.click()\n",
    "\n",
    "login(\"The Guesser\")"
   ]
  },
  {
   "cell_type": "code",
   "execution_count": null,
   "id": "48089ccc",
   "metadata": {},
   "outputs": [
    {
     "ename": "",
     "evalue": "",
     "output_type": "error",
     "traceback": [
      "\u001b[1;31mThe Kernel crashed while executing code in the current cell or a previous cell. \n",
      "\u001b[1;31mPlease review the code in the cell(s) to identify a possible cause of the failure. \n",
      "\u001b[1;31mClick <a href='https://aka.ms/vscodeJupyterKernelCrash'>here</a> for more info. \n",
      "\u001b[1;31mView Jupyter <a href='command:jupyter.viewOutput'>log</a> for further details."
     ]
    }
   ],
   "source": [
    "# TODO: Implementar função para validar se o jogador já está em um time.\n",
    "# def is_player_in_team(driver, team_name)\n",
    "\n",
    "def choose_team(driver, team_name, spy_master: bool = False):\n",
    "    team_board = driver.find_element(By.ID, f\"teamBoard-{team_name}\")\n",
    "\n",
    "    role_text = \"espião-mestre\" if spy_master else \"agente de campo\"\n",
    "\n",
    "    join_button = find_element_by_text_xpath(team_board, \"button\", f\"Entra como {role_text}\")\n",
    "\n",
    "    if join_button:\n",
    "        join_button.click()\n",
    "    else:\n",
    "        print(f\"Button to join team {team_name} not found.\")\n",
    "\n",
    "choose_team(driver, \"blue\", spy_master=False)"
   ]
  },
  {
   "cell_type": "code",
   "execution_count": null,
   "id": "d4dcb6be",
   "metadata": {},
   "outputs": [],
   "source": [
    "def wait_until_text(driver, instruction: str):\n",
    "    \"\"\"Wait until the instruction text is different from the given instruction.\"\"\"\n",
    "\n",
    "    instruction_element = driver.find_element(By.CLASS_NAME, \"land:w-instructionBoard\")\n",
    "\n",
    "    wait = WebDriverWait(driver, timeout=2)\n",
    "    wait.until(lambda _ : instruction_element.find_element(By.TAG_NAME, \"span\"))"
   ]
  },
  {
   "cell_type": "code",
   "execution_count": null,
   "id": "7fc929e5",
   "metadata": {},
   "outputs": [],
   "source": [
    "\n",
    "time.sleep(10) # Espera o jogo carregar\n",
    "\n",
    "while True:\n",
    "    try:\n",
    "        # Tenta encontrar o elemento de vida do jogador pelo seu ID ou classe\n",
    "        elemento_vida = driver.find_element(By.ID, 'player-health-bar')\n",
    "        vida_atual = int(elemento_vida.text)\n",
    "        \n",
    "        print(f\"Vida atual: {vida_atual}\")\n",
    "        \n",
    "        # Lógica de decisão do robô\n",
    "        if vida_atual < 50:\n",
    "            print(\"Vida baixa! Usando poção...\")\n",
    "            # Encontra e clica no botão de poção\n",
    "            botao_pocao = driver.find_element(By.ID, 'use-potion-button')\n",
    "            botao_pocao.click()\n",
    "\n",
    "    except Exception as e:\n",
    "        # Elemento não encontrado, ou algum outro erro\n",
    "        print(\"Aguardando estado do jogo...\")\n",
    "    \n",
    "    time.sleep(1) # Pausa para não sobrecarregar"
   ]
  },
  {
   "cell_type": "code",
   "execution_count": null,
   "id": "88412d91",
   "metadata": {},
   "outputs": [],
   "source": []
  }
 ],
 "metadata": {
  "kernelspec": {
   "display_name": "venv",
   "language": "python",
   "name": "python3"
  },
  "language_info": {
   "codemirror_mode": {
    "name": "ipython",
    "version": 3
   },
   "file_extension": ".py",
   "mimetype": "text/x-python",
   "name": "python",
   "nbconvert_exporter": "python",
   "pygments_lexer": "ipython3",
   "version": "3.12.10"
  }
 },
 "nbformat": 4,
 "nbformat_minor": 5
}
